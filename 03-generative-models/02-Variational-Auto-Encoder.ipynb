{
 "cells": [
  {
   "cell_type": "markdown",
   "metadata": {},
   "source": [
    "# Variational AutoEncoder 구현\n",
    "* 목적\n",
    "  * Reparameterization 구현법 익히기"
   ]
  },
  {
   "cell_type": "code",
   "execution_count": 1,
   "metadata": {},
   "outputs": [],
   "source": [
    "import os\n",
    "os.environ['CUDA_VISIBLE_DEVICES'] = '1'\n",
    "import time\n",
    "\n",
    "import tensorflow as tf\n",
    "from tensorflow.keras import (models, layers, losses, \n",
    "                              optimizers, metrics)\n",
    "\n",
    "import numpy as np\n",
    "from scipy.stats import describe\n",
    "import matplotlib.pyplot as plt\n",
    "import IPython.display as ipd\n",
    "\n",
    "%matplotlib inline"
   ]
  },
  {
   "cell_type": "code",
   "execution_count": 2,
   "metadata": {},
   "outputs": [
    {
     "data": {
      "text/plain": [
       "'2.2.0'"
      ]
     },
     "execution_count": 2,
     "metadata": {},
     "output_type": "execute_result"
    }
   ],
   "source": [
    "tf.__version__"
   ]
  },
  {
   "cell_type": "markdown",
   "metadata": {},
   "source": [
    "## 상수 정하기"
   ]
  },
  {
   "cell_type": "code",
   "execution_count": 3,
   "metadata": {},
   "outputs": [],
   "source": [
    "LATENT_DIM = 2**8\n",
    "ETA = 1e-3\n",
    "EPOCHS = 50\n",
    "BATCH_SIZE = 2**10"
   ]
  },
  {
   "cell_type": "markdown",
   "metadata": {},
   "source": [
    "## 데이터 불러오기\n",
    "* 이 예제에서는 MNIST 데이터 이용\n",
    "* 아래 코드로 데이터를 불러옴\n",
    "* shape을 이용해 데이터 레코드 개수와 어떤 모양인지 알 수 있음"
   ]
  },
  {
   "cell_type": "code",
   "execution_count": 4,
   "metadata": {},
   "outputs": [],
   "source": [
    "(X_train, y_train), (X_test, y_test) = tf.keras.datasets.mnist.load_data()"
   ]
  },
  {
   "cell_type": "code",
   "execution_count": 5,
   "metadata": {},
   "outputs": [
    {
     "name": "stdout",
     "output_type": "stream",
     "text": [
      "(60000, 28, 28) (60000,)\n"
     ]
    }
   ],
   "source": [
    "print(X_train.shape, y_train.shape)"
   ]
  },
  {
   "cell_type": "code",
   "execution_count": 6,
   "metadata": {},
   "outputs": [
    {
     "name": "stdout",
     "output_type": "stream",
     "text": [
      "(60000, 28, 28) (10000, 28, 28)\n"
     ]
    }
   ],
   "source": [
    "print(X_train.shape, X_test.shape)"
   ]
  },
  {
   "cell_type": "markdown",
   "metadata": {},
   "source": [
    "* 데이터 통계 확인"
   ]
  },
  {
   "cell_type": "code",
   "execution_count": 7,
   "metadata": {},
   "outputs": [
    {
     "data": {
      "text/plain": [
       "DescribeResult(nobs=47040000, minmax=(0, 255), mean=33.318421449829934, variance=6172.850613516908, skewness=2.151104099863995, kurtosis=2.9144234905841113)"
      ]
     },
     "execution_count": 7,
     "metadata": {},
     "output_type": "execute_result"
    }
   ],
   "source": [
    "describe(np.array(X_train).flatten())"
   ]
  },
  {
   "cell_type": "code",
   "execution_count": 8,
   "metadata": {},
   "outputs": [
    {
     "data": {
      "text/plain": [
       "DescribeResult(nobs=7840000, minmax=(0, 255), mean=33.791224489795916, variance=6268.279732209774, skewness=2.1285586190159993, kurtosis=2.8094527239057125)"
      ]
     },
     "execution_count": 8,
     "metadata": {},
     "output_type": "execute_result"
    }
   ],
   "source": [
    "describe(np.array(X_test).flatten())"
   ]
  },
  {
   "cell_type": "markdown",
   "metadata": {},
   "source": [
    "* 데이터 \\[0, 1\\] 범위로 리스케일 해주기"
   ]
  },
  {
   "cell_type": "code",
   "execution_count": 9,
   "metadata": {},
   "outputs": [
    {
     "data": {
      "text/plain": [
       "((60000, 28, 28, 1), (10000, 28, 28, 1))"
      ]
     },
     "execution_count": 9,
     "metadata": {},
     "output_type": "execute_result"
    }
   ],
   "source": [
    "X_train = np.expand_dims(np.squeeze(np.array(X_train, dtype=np.float32)), axis=-1)\n",
    "X_test = np.expand_dims(np.squeeze(np.array(X_test, dtype=np.float32)), axis=-1)\n",
    "\n",
    "X_train /= np.max(X_train)\n",
    "X_test /= np.max(X_test)\n",
    "\n",
    "X_train.shape, X_test.shape"
   ]
  },
  {
   "cell_type": "code",
   "execution_count": 10,
   "metadata": {},
   "outputs": [
    {
     "data": {
      "text/plain": [
       "DescribeResult(nobs=47040000, minmax=(0.0, 1.0), mean=0.13066062, variance=0.09493039, skewness=2.151106357574463, kurtosis=2.9144181812310546)"
      ]
     },
     "execution_count": 10,
     "metadata": {},
     "output_type": "execute_result"
    }
   ],
   "source": [
    "describe(np.array(X_train).flatten())"
   ]
  },
  {
   "cell_type": "code",
   "execution_count": 11,
   "metadata": {},
   "outputs": [
    {
     "data": {
      "text/plain": [
       "DescribeResult(nobs=7840000, minmax=(0.0, 1.0), mean=0.13251467, variance=0.09639801, skewness=2.1285581588745117, kurtosis=2.809452489039299)"
      ]
     },
     "execution_count": 11,
     "metadata": {},
     "output_type": "execute_result"
    }
   ],
   "source": [
    "describe(np.array(X_test).flatten())"
   ]
  },
  {
   "cell_type": "markdown",
   "metadata": {},
   "source": [
    "## 데이터 시각화\n",
    "* 학습 데이터와 테스트 데이터에서 랜덤하게 몇 개 찍어보자."
   ]
  },
  {
   "cell_type": "code",
   "execution_count": 12,
   "metadata": {},
   "outputs": [],
   "source": [
    "def plot_samples(X):\n",
    "    \"\"\"\n",
    "    args:\n",
    "        숫자 이미지\n",
    "    return:\n",
    "        None\n",
    "        임의의 그림을 9x9 subplots로 된 도화지에 그려줌\n",
    "    \"\"\"\n",
    "    fig, ax = plt.subplots(nrows=3, ncols=3, figsize=(5, 5))\n",
    "    for row in range(3):\n",
    "        for col in range(3):\n",
    "            ax[row][col].imshow(np.squeeze(X[np.random.randint(X.shape[0])]))\n",
    "            ax[row][col].axis('off')\n",
    "    plt.show()"
   ]
  },
  {
   "cell_type": "code",
   "execution_count": 13,
   "metadata": {},
   "outputs": [
    {
     "data": {
      "image/png": "[encoded data removed]",
      "text/plain": [
       "<Figure size 360x360 with 9 Axes>"
      ]
     },
     "metadata": {
      "needs_background": "light"
     },
     "output_type": "display_data"
    }
   ],
   "source": [
    "# 학습용 이미지\n",
    "plot_samples(X_train)"
   ]
  },
  {
   "cell_type": "code",
   "execution_count": 14,
   "metadata": {},
   "outputs": [
    {
     "data": {
      "image/png": "[encoded data removed]",
      "text/plain": [
       "<Figure size 360x360 with 9 Axes>"
      ]
     },
     "metadata": {
      "needs_background": "light"
     },
     "output_type": "display_data"
    }
   ],
   "source": [
    "# 테스트용 이미지\n",
    "plot_samples(X_test)"
   ]
  },
  {
   "cell_type": "markdown",
   "metadata": {},
   "source": [
    "## 모델 만들기"
   ]
  },
  {
   "cell_type": "code",
   "execution_count": 15,
   "metadata": {},
   "outputs": [],
   "source": [
    "class Encoder(models.Model):\n",
    "    \n",
    "    def __init__(self, latent_dim):\n",
    "        super(Encoder, self).__init__()\n",
    "        self.cnn = models.Sequential([\n",
    "            layers.Conv2D(filters=128, \n",
    "                          kernel_size=(3, 3),\n",
    "                          strides=(1, 1),\n",
    "                         ),\n",
    "            layers.Activation(activation=tf.nn.leaky_relu),\n",
    "            layers.Conv2D(filters=128, \n",
    "                          kernel_size=(3, 3),\n",
    "                          strides=(1, 1),\n",
    "                         ),\n",
    "            layers.Activation(activation=tf.nn.leaky_relu),\n",
    "            layers.Conv2D(filters=128, \n",
    "                          kernel_size=(3, 3),\n",
    "                          strides=(1, 1),\n",
    "                         ),\n",
    "            layers.Activation(activation=tf.nn.leaky_relu),\n",
    "        ])\n",
    "        self.flat = layers.Flatten()\n",
    "        self.mean = layers.Dense(latent_dim, activation=tf.nn.leaky_relu)\n",
    "        self.logvar = layers.Dense(latent_dim, activation=tf.nn.leaky_relu)\n",
    "        \n",
    "    def call(self, inputs, training=False):\n",
    "        x = self.cnn(inputs)\n",
    "        shape = x.shape\n",
    "        x = self.flat(x)\n",
    "        mean = self.mean(x)\n",
    "        logvar = self.logvar(x)\n",
    "        z = self._reparameterization(mean, logvar)\n",
    "        return z, mean, logvar, x.shape\n",
    "    \n",
    "    def _reparameterization(self, mean, logvar):\n",
    "        z = tf.random.normal(mean.shape, mean=0., stddev=1.)\n",
    "        z += z * tf.exp(logvar * .5) + mean\n",
    "        return z"
   ]
  },
  {
   "cell_type": "code",
   "execution_count": 16,
   "metadata": {},
   "outputs": [],
   "source": [
    "class Decoder(models.Model):\n",
    "    \n",
    "    def __init__(self, shape):\n",
    "        super(Decoder, self).__init__()\n",
    "        self.dense = layers.Dense(tf.reduce_prod(shape[1:]),\n",
    "                                  activation=tf.nn.leaky_relu)\n",
    "        self.reshape = layers.Reshape(shape[1:])\n",
    "        self.transpose = models.Sequential([\n",
    "            layers.Conv2DTranspose(filters=64,\n",
    "                                  kernel_size=(9, 9),\n",
    "                                  strides=(1, 1),\n",
    "                                  ),\n",
    "            layers.Activation(activation=tf.nn.leaky_relu),\n",
    "            layers.Conv2DTranspose(filters=64,\n",
    "                                  kernel_size=(9, 9),\n",
    "                                  strides=(1, 1),\n",
    "                                  ),\n",
    "            layers.Activation(activation=tf.nn.leaky_relu),\n",
    "            layers.Conv2DTranspose(filters=1,\n",
    "                                  kernel_size=(12, 12),\n",
    "                                  strides=(1, 1),\n",
    "                                  ),\n",
    "            layers.Activation(activation=tf.nn.sigmoid),\n",
    "        ])\n",
    "        \n",
    "    def call(self, inputs, training=False):\n",
    "        x = self.dense(inputs)\n",
    "        x = self.reshape(x)\n",
    "        x = tf.expand_dims(x, axis=1)\n",
    "        x = tf.expand_dims(x, axis=1)\n",
    "        outputs = self.transpose(x)\n",
    "        return outputs"
   ]
  },
  {
   "cell_type": "code",
   "execution_count": 17,
   "metadata": {},
   "outputs": [],
   "source": [
    "class VAE(models.Model):\n",
    "    \n",
    "    def __init__(self, encoder, decoder):\n",
    "        super(VAE, self).__init__()\n",
    "        self.encoder = encoder\n",
    "        self.decoder = decoder\n",
    "        \n",
    "    def call(self, inputs, training=False):\n",
    "        z, mean, logvar, _ = self.encoder(inputs)\n",
    "        outputs = decoder(z)\n",
    "        \n",
    "        return outputs, mean, logvar"
   ]
  },
  {
   "cell_type": "markdown",
   "metadata": {},
   "source": [
    "## 로스 정하기"
   ]
  },
  {
   "cell_type": "markdown",
   "metadata": {},
   "source": [
    "아래 로스는 Kingma, Diederik P., and Max Welling. \"Auto-encoding variational bayes.\" arXiv preprint arXiv:1312.6114 (2013) 에서 Appendix B. 에 나온 아래 수식을 코드로 구현한 것임\n",
    "\n",
    "\\begin{align}\n",
    "-D_{KL}((q_\\phi (z)||p_\\theta (z)) & = \\int q_\\theta(z)(\\log p_\\theta(z) - \\log q_\\theta (z)) dz\\\\\n",
    "& = {1\\over 2} \\sum_{j=1}^J (1 + \\log ((\\sigma_j)^2) - (\\mu_j)^2 - (\\sigma_j)^2)\n",
    "\\end{align}"
   ]
  },
  {
   "cell_type": "code",
   "execution_count": 18,
   "metadata": {},
   "outputs": [],
   "source": [
    "cce = losses.BinaryCrossentropy()\n",
    "\n",
    "def model_loss(x, decoded, mean, logvar):\n",
    "    \"\"\"\n",
    "    args:\n",
    "        원본 이미지, 만들어진 이미지,\n",
    "        이미지 분포의 mean, variance\n",
    "    return:\n",
    "        원본 이미지와 만들어진 이미지의 mse\n",
    "        p(z)와 q(z|x) 의 KL-divergence\n",
    "    \"\"\"\n",
    "    _loss = cce(x, decoded)\n",
    "    kl_divergence = (1/2)*tf.reduce_mean(tf.exp(logvar) + tf.pow(mean, 2) - logvar - 1)\n",
    "    \n",
    "    return _loss,  kl_divergence"
   ]
  },
  {
   "cell_type": "markdown",
   "metadata": {},
   "source": [
    "## 학습에 도움될 함수 만들기"
   ]
  },
  {
   "cell_type": "code",
   "execution_count": 19,
   "metadata": {},
   "outputs": [],
   "source": [
    "opt = optimizers.Adam(learning_rate=ETA)\n",
    "loss_mse = metrics.Mean()\n",
    "loss_kl = metrics.Mean()\n",
    "\n",
    "test_loss_mse = metrics.Mean()\n",
    "test_loss_kl = metrics.Mean()\n",
    "\n",
    "def train_step(inputs):\n",
    "    x = inputs\n",
    "    \n",
    "    with tf.GradientTape() as t:\n",
    "        decoded, mean, logvar = vae(x)\n",
    "        _loss, _loss_kl = model_loss(x, decoded, mean, logvar)\n",
    "        _loss_sum = _loss + _loss_kl\n",
    "        \n",
    "    grads = t.gradient(_loss_sum, vae.trainable_variables)\n",
    "    opt.apply_gradients(zip(grads, vae.trainable_variables))\n",
    "    \n",
    "    loss_mse.update_state(_loss)\n",
    "    loss_kl.update_state(_loss_kl)\n",
    "    \n",
    "def test_step(inputs):\n",
    "    x = inputs\n",
    "    \n",
    "    decoded, mean, logvar = vae(x)\n",
    "    _loss, _loss_kl = model_loss(x, decoded, mean, logvar)\n",
    "    _loss_sum = _loss + _loss_kl\n",
    "\n",
    "    test_loss_mse.update_state(_loss)\n",
    "    test_loss_kl.update_state(_loss_kl)"
   ]
  },
  {
   "cell_type": "markdown",
   "metadata": {},
   "source": [
    "## 모델 클래스 생성"
   ]
  },
  {
   "cell_type": "code",
   "execution_count": 20,
   "metadata": {},
   "outputs": [],
   "source": [
    "encoder = Encoder(LATENT_DIM)\n",
    "z, _, _, shape = encoder(np.ones((2, 28, 28, 1), dtype=np.float32))\n",
    "decoder = Decoder(shape)\n",
    "decoder(z)\n",
    "vae = VAE(encoder, decoder)\n",
    "pseudo = vae(np.ones((2, 28, 28, 1), dtype=np.float32))[0]"
   ]
  },
  {
   "cell_type": "markdown",
   "metadata": {},
   "source": [
    "## 모델 학습"
   ]
  },
  {
   "cell_type": "code",
   "execution_count": 21,
   "metadata": {},
   "outputs": [],
   "source": [
    "def plot_seed(seed_image):\n",
    "    idx = 0\n",
    "    fig, ax = plt.subplots(nrows=3, ncols=3, figsize=(5, 5))\n",
    "    for row in range(3):\n",
    "        for col in range(3):\n",
    "            ax[row][col].imshow(np.squeeze(seed_image[idx]))\n",
    "            ax[row][col].axis('off')\n",
    "            idx += 1\n",
    "    plt.show()"
   ]
  },
  {
   "cell_type": "code",
   "execution_count": 22,
   "metadata": {},
   "outputs": [],
   "source": [
    "np.random.seed(0)\n",
    "seed_image = X_test[np.random.randint(low=0, high=X_test.shape[0], size=(9))]"
   ]
  },
  {
   "cell_type": "code",
   "execution_count": 23,
   "metadata": {},
   "outputs": [
    {
     "data": {
      "image/png": "[encoded data removed]",
      "text/plain": [
       "<Figure size 360x360 with 9 Axes>"
      ]
     },
     "metadata": {
      "needs_background": "light"
     },
     "output_type": "display_data"
    }
   ],
   "source": [
    "plot_seed(seed_image)"
   ]
  },
  {
   "cell_type": "code",
   "execution_count": 24,
   "metadata": {},
   "outputs": [
    {
     "name": "stdout",
     "output_type": "stream",
     "text": [
      "50/50, reconst loss = 0.22125059, kl loss = 0.02947663, 30.28 sec/epoch\n"
     ]
    },
    {
     "data": {
      "image/png": "[encoded data removed]",
      "text/plain": [
       "<Figure size 1600x160 with 1 Axes>"
      ]
     },
     "metadata": {
      "needs_background": "light"
     },
     "output_type": "display_data"
    },
    {
     "data": {
      "image/png": "[encoded data removed]",
      "text/plain": [
       "<Figure size 360x360 with 9 Axes>"
      ]
     },
     "metadata": {
      "needs_background": "light"
     },
     "output_type": "display_data"
    }
   ],
   "source": [
    "mse_loss_list, kl_loss_list = [], []\n",
    "\n",
    "train_dataset = tf.data.Dataset\\\n",
    "    .from_tensor_slices(X_train[:X_train.shape[0]])\\\n",
    "    .shuffle(X_train.shape[0])\\\n",
    "    .batch(BATCH_SIZE)\n",
    "\n",
    "for e in range(EPOCHS):\n",
    "    start_time = time.time()\n",
    "    \n",
    "    for x in train_dataset:\n",
    "        train_step(x)\n",
    "    \n",
    "    ipd.clear_output(wait=True)\n",
    "    print(f\"{e+1}/{EPOCHS}, reconst loss = {loss_mse.result():.8f}, kl loss = {loss_kl.result():.8f}, {time.time() - start_time:.2f} sec/epoch\")\n",
    "        \n",
    "    mse_loss_list.append(loss_mse.result())\n",
    "    kl_loss_list.append(loss_kl.result())\n",
    "    \n",
    "    plt.figure(figsize=(10, 1), dpi=160)\n",
    "    plt.plot(mse_loss_list, label='mse')\n",
    "    plt.plot(kl_loss_list, label='kl', alpha=.7)\n",
    "    plt.legend()\n",
    "    plt.show()\n",
    "    \n",
    "    generated = vae(seed_image)[0]\n",
    "    plot_seed(generated)\n",
    "    \n",
    "    loss_mse.reset_states()\n",
    "    loss_kl.reset_states()"
   ]
  },
  {
   "cell_type": "markdown",
   "metadata": {},
   "source": [
    "## 모델 성능 평가"
   ]
  },
  {
   "cell_type": "code",
   "execution_count": 25,
   "metadata": {},
   "outputs": [
    {
     "name": "stdout",
     "output_type": "stream",
     "text": [
      "reconst loss = 0.22051612, kl loss = 0.02943472, 2.35 sec/epoch\n"
     ]
    }
   ],
   "source": [
    "test_dataset = tf.data.Dataset\\\n",
    "    .from_tensor_slices(X_test)\\\n",
    "    .batch(BATCH_SIZE)\n",
    "\n",
    "start_time = time.time()\n",
    "\n",
    "for x in test_dataset:\n",
    "    test_step(x)\n",
    "\n",
    "print(f\"reconst loss = {test_loss_mse.result():.8f}, kl loss = {test_loss_kl.result():.8f}, {time.time() - start_time:.2f} sec/epoch\")"
   ]
  },
  {
   "cell_type": "code",
   "execution_count": 26,
   "metadata": {},
   "outputs": [],
   "source": [
    "def get_decoded(X):\n",
    "    decoded = np.zeros(X.shape)\n",
    "\n",
    "    for s in range(0, X.shape[0], BATCH_SIZE):\n",
    "        e = min(X.shape[0], s+BATCH_SIZE)\n",
    "        decoded[s:e], _, _ = vae(X[s:e])\n",
    "\n",
    "    return decoded\n",
    "\n",
    "decoded = get_decoded(X_test)"
   ]
  },
  {
   "cell_type": "code",
   "execution_count": 32,
   "metadata": {},
   "outputs": [
    {
     "data": {
      "image/png": "[encoded data removed]",
      "text/plain": [
       "<Figure size 360x360 with 9 Axes>"
      ]
     },
     "metadata": {
      "needs_background": "light"
     },
     "output_type": "display_data"
    }
   ],
   "source": [
    "plot_samples(decoded)"
   ]
  },
  {
   "cell_type": "code",
   "execution_count": 79,
   "metadata": {},
   "outputs": [
    {
     "data": {
      "image/png": "[encoded data removed]",
      "text/plain": [
       "<Figure size 360x360 with 9 Axes>"
      ]
     },
     "metadata": {
      "needs_background": "light"
     },
     "output_type": "display_data"
    },
    {
     "data": {
      "image/png": "[encoded data removed]",
      "text/plain": [
       "<Figure size 360x360 with 9 Axes>"
      ]
     },
     "metadata": {
      "needs_background": "light"
     },
     "output_type": "display_data"
    }
   ],
   "source": [
    "def plot_generated(X):\n",
    "    _X = X[np.random.randint(0, X.shape[0], size=9)]\n",
    "    \n",
    "    _decoded = vae(_X)[0]\n",
    "\n",
    "    idx = 0\n",
    "    fig, ax = plt.subplots(nrows=3, ncols=3, figsize=(5, 5))\n",
    "    for row in range(3):\n",
    "        for col in range(3):\n",
    "            ax[row][col].imshow(np.squeeze(_X[idx]))\n",
    "            ax[row][col].axis('off')\n",
    "            idx += 1\n",
    "    plt.show()\n",
    "    \n",
    "    idx = 0\n",
    "    fig, ax = plt.subplots(nrows=3, ncols=3, figsize=(5, 5))\n",
    "    for row in range(3):\n",
    "        for col in range(3):\n",
    "            ax[row][col].imshow(np.squeeze(_decoded[idx]))\n",
    "            ax[row][col].axis('off')\n",
    "            idx += 1\n",
    "    plt.show()\n",
    "    \n",
    "plot_generated(X_test)"
   ]
  }
 ],
 "metadata": {
  "kernelspec": {
   "display_name": "Python 3",
   "language": "python",
   "name": "python3"
  },
  "language_info": {
   "codemirror_mode": {
    "name": "ipython",
    "version": 3
   },
   "file_extension": ".py",
   "mimetype": "text/x-python",
   "name": "python",
   "nbconvert_exporter": "python",
   "pygments_lexer": "ipython3",
   "version": "3.7.7"
  }
 },
 "nbformat": 4,
 "nbformat_minor": 4
}
